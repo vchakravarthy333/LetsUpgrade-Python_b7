{
 "cells": [
  {
   "cell_type": "markdown",
   "metadata": {},
   "source": [
    "# Write a python function for finding is a given number prime or not and do unit testing on it using pylint & unittest libraray."
   ]
  },
  {
   "cell_type": "code",
   "execution_count": 8,
   "metadata": {},
   "outputs": [
    {
     "name": "stdout",
     "output_type": "stream",
     "text": [
      "Requirement already satisfied: pylint in c:\\users\\chakravarthy\\anaconda3\\lib\\site-packages (2.5.3)\n",
      "Requirement already satisfied: mccabe<0.7,>=0.6 in c:\\users\\chakravarthy\\anaconda3\\lib\\site-packages (from pylint) (0.6.1)\n",
      "Requirement already satisfied: toml>=0.7.1 in c:\\users\\chakravarthy\\anaconda3\\lib\\site-packages (from pylint) (0.10.1)\n",
      "Requirement already satisfied: isort<5,>=4.2.5 in c:\\users\\chakravarthy\\anaconda3\\lib\\site-packages (from pylint) (4.3.21)\n",
      "Requirement already satisfied: colorama; sys_platform == \"win32\" in c:\\users\\chakravarthy\\anaconda3\\lib\\site-packages (from pylint) (0.4.3)\n",
      "Requirement already satisfied: astroid<=2.5,>=2.4.0 in c:\\users\\chakravarthy\\anaconda3\\lib\\site-packages (from pylint) (2.4.2)\n",
      "Requirement already satisfied: six~=1.12 in c:\\users\\chakravarthy\\anaconda3\\lib\\site-packages (from astroid<=2.5,>=2.4.0->pylint) (1.15.0)\n",
      "Requirement already satisfied: lazy-object-proxy==1.4.* in c:\\users\\chakravarthy\\anaconda3\\lib\\site-packages (from astroid<=2.5,>=2.4.0->pylint) (1.4.3)\n",
      "Requirement already satisfied: wrapt~=1.11 in c:\\users\\chakravarthy\\anaconda3\\lib\\site-packages (from astroid<=2.5,>=2.4.0->pylint) (1.11.2)\n"
     ]
    }
   ],
   "source": [
    "! pip install pylint"
   ]
  },
  {
   "cell_type": "code",
   "execution_count": 10,
   "metadata": {},
   "outputs": [
    {
     "name": "stdout",
     "output_type": "stream",
     "text": [
      "Overwriting prime_checker.py\n"
     ]
    }
   ],
   "source": [
    "%%writefile prime_checker.py\n",
    "'''checks whether the given number is prime or not'''\n",
    "\n",
    "def isprime(input_num):\n",
    "    '''returns true ifthe number is prime else returns false'''\n",
    "    flag = True \n",
    "    for i in range(2, input_num):\n",
    "        if input_num % i == 0:\n",
    "            flag = False\n",
    "            break\n",
    "        return flag"
   ]
  },
  {
   "cell_type": "code",
   "execution_count": 11,
   "metadata": {},
   "outputs": [
    {
     "name": "stdout",
     "output_type": "stream",
     "text": [
      "************* Module prime_checker\n",
      "prime_checker.py:5:15: C0303: Trailing whitespace (trailing-whitespace)\n",
      "\n",
      "-----------------------------------\n",
      "\n",
      "Your code has been rated at 8.57/10\n",
      "\n",
      "\n",
      "\n"
     ]
    }
   ],
   "source": [
    "! pylint \"prime_checker.py\""
   ]
  },
  {
   "cell_type": "code",
   "execution_count": 13,
   "metadata": {},
   "outputs": [],
   "source": [
    "import prime_checker\n",
    "\n",
    "prime_checker.isprime(2)"
   ]
  },
  {
   "cell_type": "code",
   "execution_count": 14,
   "metadata": {},
   "outputs": [
    {
     "name": "stdout",
     "output_type": "stream",
     "text": [
      "Writing testPrime.py\n"
     ]
    }
   ],
   "source": [
    "%%writefile testPrime.py\n",
    "\n",
    "import unittest\n",
    "import prime_checker\n",
    "\n",
    "class testNum(unittest.testCase):\n",
    "    def testInRangeTen(self):\n",
    "        n=9\n",
    "        result = prime_checker.isprime(n)\n",
    "        self.assertEqual(result, False)\n",
    "        n=7\n",
    "        result = prime_checker.isprime(n)\n",
    "        self.assertEqual(result, True)\n",
    "        n=2\n",
    "        result = prime_checker.isprime(n)\n",
    "        self.assertEqual(result, True)\n",
    "    def testInRangeHundred(self):\n",
    "        n=24\n",
    "        result = prime_checker.isprime(n)\n",
    "        self.assertEquals(result, False)\n",
    "        n=29\n",
    "        result = prime_checker.isprime(n)\n",
    "        self.assertEquals(result, True)\n",
    "        n=79\n",
    "        result = prime_checker.isprime(n)\n",
    "        self.assertEquals(result, True)\n",
    "    def testInRangeThousand(self):\n",
    "        n=541\n",
    "        result = prime_checker.isprime(n)\n",
    "        self.assertEquals(result, True)\n",
    "        n=324\n",
    "        result = prime_checker.isprime(n)\n",
    "        self.assertEquals(result, False)\n",
    "        n=547\n",
    "        result = prime_checker.isprime(n)\n",
    "        self.assertEqual(result, True)\n",
    "        if __name__ == \"___main__\":\n",
    "            unittest.main()"
   ]
  },
  {
   "cell_type": "markdown",
   "metadata": {},
   "source": [
    "# Make a small generator program for returning armstrong numbers in between 1-1000 in a generator object."
   ]
  },
  {
   "cell_type": "code",
   "execution_count": 16,
   "metadata": {},
   "outputs": [
    {
     "name": "stdout",
     "output_type": "stream",
     "text": [
      "[1, 2, 3, 4, 5, 6, 7, 8, 9, 153, 370, 371, 407]\n"
     ]
    }
   ],
   "source": [
    "def Armstrong(lst):\n",
    "    for num in lst:\n",
    "        l=len(str(num))\n",
    "        temp=num\n",
    "        sum1=0\n",
    "        digit=0\n",
    "        while(temp>0):\n",
    "            digit=temp%10\n",
    "            sum1=sum1+digit**l\n",
    "            temp=temp//10\n",
    "        if sum1 == num:\n",
    "            yield(num)\n",
    "lst=list(range(1,1000))\n",
    "print(list(Armstrong(lst)))"
   ]
  },
  {
   "cell_type": "code",
   "execution_count": null,
   "metadata": {},
   "outputs": [],
   "source": []
  }
 ],
 "metadata": {
  "kernelspec": {
   "display_name": "Python 3",
   "language": "python",
   "name": "python3"
  },
  "language_info": {
   "codemirror_mode": {
    "name": "ipython",
    "version": 3
   },
   "file_extension": ".py",
   "mimetype": "text/x-python",
   "name": "python",
   "nbconvert_exporter": "python",
   "pygments_lexer": "ipython3",
   "version": "3.8.3"
  }
 },
 "nbformat": 4,
 "nbformat_minor": 4
}
