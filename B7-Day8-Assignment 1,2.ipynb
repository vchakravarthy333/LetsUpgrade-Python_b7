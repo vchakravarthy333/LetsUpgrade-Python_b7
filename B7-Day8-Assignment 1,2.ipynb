{
 "cells": [
  {
   "cell_type": "markdown",
   "metadata": {},
   "source": [
    "# Write a decorator function for your taking input for you \n",
    "   any kind of function you want to build\n",
    "   \n",
    "   eg:- fibonacci series"
   ]
  },
  {
   "cell_type": "code",
   "execution_count": 7,
   "metadata": {},
   "outputs": [
    {
     "name": "stdout",
     "output_type": "stream",
     "text": [
      "Enter a number: 33\n",
      "0\n",
      "1\n",
      "1\n",
      "2\n",
      "3\n",
      "5\n",
      "8\n",
      "13\n",
      "21\n"
     ]
    }
   ],
   "source": [
    "def dec_fun(func):\n",
    "    n=int(input(\"Enter a number: \"))\n",
    "    return func(n)\n",
    "@dec_fun\n",
    "def fibonacci(n):\n",
    "    a=0\n",
    "    b=1\n",
    "    c=1\n",
    "    if n==1:\n",
    "        print(a)\n",
    "        return \n",
    "    elif n==2:\n",
    "        print(a)\n",
    "        print(b)\n",
    "        return\n",
    "    else:\n",
    "        print(a)\n",
    "        print(b)\n",
    "        while(a+b<=n-2):\n",
    "            c=a+b\n",
    "            a=b\n",
    "            b=c\n",
    "            print(c)"
   ]
  },
  {
   "cell_type": "markdown",
   "metadata": {},
   "source": [
    "#  For this challenge you need to dvelop a python program to open a file in read only mode and try writing something to it and handle the subsequent errors using exception handling."
   ]
  },
  {
   "cell_type": "code",
   "execution_count": 11,
   "metadata": {},
   "outputs": [
    {
     "name": "stdout",
     "output_type": "stream",
     "text": [
      "hi\n",
      "\n",
      "vc\n",
      "\n",
      "my goal is become a film director\n",
      "Trying to write into a file which is in read mode\n"
     ]
    }
   ],
   "source": [
    "fr=open(\"vc.txt\",'r')\n",
    "for line in fr:\n",
    "    print(line)\n",
    "v=\"What is your goal?\"\n",
    "try:\n",
    "    fr.write(v)\n",
    "except IOError:\n",
    "    print(\"Trying to write into a file which is in read mode\")"
   ]
  },
  {
   "cell_type": "code",
   "execution_count": null,
   "metadata": {},
   "outputs": [],
   "source": []
  }
 ],
 "metadata": {
  "kernelspec": {
   "display_name": "Python 3",
   "language": "python",
   "name": "python3"
  },
  "language_info": {
   "codemirror_mode": {
    "name": "ipython",
    "version": 3
   },
   "file_extension": ".py",
   "mimetype": "text/x-python",
   "name": "python",
   "nbconvert_exporter": "python",
   "pygments_lexer": "ipython3",
   "version": "3.8.3"
  }
 },
 "nbformat": 4,
 "nbformat_minor": 4
}
