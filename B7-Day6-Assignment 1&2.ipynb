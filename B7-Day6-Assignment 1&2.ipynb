{
 "cells": [
  {
   "cell_type": "markdown",
   "metadata": {},
   "source": [
    "# Create a class back account with two attributes owner and balance."
   ]
  },
  {
   "cell_type": "code",
   "execution_count": 2,
   "metadata": {},
   "outputs": [
    {
     "name": "stdout",
     "output_type": "stream",
     "text": [
      "Enter Account Holder name: vakkalakula chakravarthy\n",
      "Enter balance amount in the account : 1000000\n",
      "Enter the amount to deposited : 500000\n",
      "The balance in the account of vakkalakula chakravarthy after deposit is 1500000\n",
      "Enter the amount to be withdrawn: 800000\n",
      "The balance in the account of vakkalakula chakravarthy after withdrawal is 700000\n"
     ]
    }
   ],
   "source": [
    "class bankaccount:\n",
    "    def getDetails(self,owner,balance):\n",
    "        self.owner=owner\n",
    "        self.balance=balance\n",
    "    def deposit(self,amount):\n",
    "        self.balance=self.balance+amount\n",
    "        print(\"The balance in the account of\",self.owner,\"after deposit is\",self.balance)\n",
    "    def withdraw(self,amount):\n",
    "        if self.balance>amount:\n",
    "            self.balance=self.balance-amount\n",
    "            print(\"The balance in the account of\",self.owner,\"after withdrawal is\",self.balance)\n",
    "        else:\n",
    "            print(\"Withdrawal is not possible, Low Balance\")\n",
    "customer=bankaccount()\n",
    "name=input(\"Enter Account Holder name: \")\n",
    "bal=int(input(\"Enter balance amount in the account : \"))\n",
    "customer.getDetails(name,bal)\n",
    "depocit=int(input(\"Enter the amount to deposited : \"))\n",
    "customer.deposit(depocit)\n",
    "draw=int(input(\"Enter the amount to be withdrawn: \"))\n",
    "customer.withdraw(draw)"
   ]
  },
  {
   "cell_type": "markdown",
   "metadata": {},
   "source": [
    "# create a class cone which contains methods volume and surface area and instantiate the class"
   ]
  },
  {
   "cell_type": "code",
   "execution_count": 10,
   "metadata": {},
   "outputs": [
    {
     "name": "stdout",
     "output_type": "stream",
     "text": [
      "Enter radius of the cone : 6\n",
      "Enter height of the cone : 30\n",
      "volume of the cone: 1130.97\n",
      "Surface Area of the cone:  689.78\n"
     ]
    }
   ],
   "source": [
    "import math\n",
    "class cone:\n",
    "    def getValues(self,radius,height):\n",
    "        self.radius=radius\n",
    "        self.height=height\n",
    "        self.l=math.sqrt(radius**2+height**2)\n",
    "    def volume(self):\n",
    "        v = (1/3)*math.pi*self.radius**2*self.height\n",
    "        return v\n",
    "    def surfaceArea(self):\n",
    "        sarea = math.pi*self.radius*(self.radius+self.l)\n",
    "        return sarea\n",
    "c = cone()\n",
    "radius = int(input(\"Enter radius of the cone : \"))\n",
    "height = int(input(\"Enter height of the cone : \"))\n",
    "c.getValues(radius,height)\n",
    "print(\"volume of the cone:\",round(c.volume(),2))\n",
    "print(\"Surface Area of the cone: \",round(c.surfaceArea(),2))"
   ]
  },
  {
   "cell_type": "code",
   "execution_count": null,
   "metadata": {},
   "outputs": [],
   "source": []
  }
 ],
 "metadata": {
  "kernelspec": {
   "display_name": "Python 3",
   "language": "python",
   "name": "python3"
  },
  "language_info": {
   "codemirror_mode": {
    "name": "ipython",
    "version": 3
   },
   "file_extension": ".py",
   "mimetype": "text/x-python",
   "name": "python",
   "nbconvert_exporter": "python",
   "pygments_lexer": "ipython3",
   "version": "3.8.3"
  }
 },
 "nbformat": 4,
 "nbformat_minor": 4
}
