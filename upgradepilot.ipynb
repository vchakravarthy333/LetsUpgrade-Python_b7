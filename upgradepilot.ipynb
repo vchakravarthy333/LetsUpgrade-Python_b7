{
 "cells": [
  {
   "cell_type": "code",
   "execution_count": null,
   "metadata": {},
   "outputs": [],
   "source": []
  },
  {
   "cell_type": "code",
   "execution_count": 17,
   "metadata": {},
   "outputs": [
    {
     "name": "stdout",
     "output_type": "stream",
     "text": [
      "Bring down to 1000\n"
     ]
    }
   ],
   "source": [
    "#pilot programme\n",
    "n = 3000\n",
    "if n<=1000:\n",
    "    print('Safe to land')\n",
    "elif (n>1000) and (n<5000):\n",
    "    print('Bring down to 1000')\n",
    "else:\n",
    "    print('Turn Around')\n"
   ]
  },
  {
   "cell_type": "code",
   "execution_count": 18,
   "metadata": {},
   "outputs": [
    {
     "name": "stdout",
     "output_type": "stream",
     "text": [
      "Safe to land\n"
     ]
    }
   ],
   "source": [
    "n = 1000\n",
    "if n<=1000:\n",
    "    print('Safe to land')\n",
    "elif (n>1000) and (n<5000):\n",
    "    print('Bring down to 1000')\n",
    "else:\n",
    "    print('Turn Around')\n",
    "    "
   ]
  },
  {
   "cell_type": "code",
   "execution_count": 19,
   "metadata": {},
   "outputs": [
    {
     "name": "stdout",
     "output_type": "stream",
     "text": [
      "Turn Around\n"
     ]
    }
   ],
   "source": [
    "n = 6500\n",
    "if n<=1000:\n",
    "    print('Safe to land')\n",
    "elif (n>1000) and (n<5000):\n",
    "    print('Bring down to 1000')\n",
    "else:\n",
    "    print('Turn Around')"
   ]
  },
  {
   "cell_type": "code",
   "execution_count": null,
   "metadata": {},
   "outputs": [],
   "source": []
  }
 ],
 "metadata": {
  "kernelspec": {
   "display_name": "Python 3",
   "language": "python",
   "name": "python3"
  },
  "language_info": {
   "codemirror_mode": {
    "name": "ipython",
    "version": 3
   },
   "file_extension": ".py",
   "mimetype": "text/x-python",
   "name": "python",
   "nbconvert_exporter": "python",
   "pygments_lexer": "ipython3",
   "version": "3.8.3"
  }
 },
 "nbformat": 4,
 "nbformat_minor": 4
}
