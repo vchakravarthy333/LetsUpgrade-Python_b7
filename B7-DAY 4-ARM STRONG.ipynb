{
 "cells": [
  {
   "cell_type": "markdown",
   "metadata": {},
   "source": [
    "# PYTHON PROGRAM TO PRINT FIRST ARMSTRONG NUMBER IN THE GIVEN RANGE"
   ]
  },
  {
   "cell_type": "code",
   "execution_count": 2,
   "metadata": {},
   "outputs": [
    {
     "name": "stdout",
     "output_type": "stream",
     "text": [
      "The first armstrong number in the given range: 1741725\n"
     ]
    }
   ],
   "source": [
    "for num in range(1042000,702648266):\n",
    "    temp = num\n",
    "    sum1 =0\n",
    "    o=len(str(num))\n",
    "    while temp>0:\n",
    "        digit = temp % 10\n",
    "        sum1 = sum1 +digit ** o\n",
    "        temp = temp // 10\n",
    "    if sum1 == num:\n",
    "        print(\"The first armstrong number in the given range:\",num)\n",
    "        break"
   ]
  },
  {
   "cell_type": "code",
   "execution_count": null,
   "metadata": {},
   "outputs": [],
   "source": []
  }
 ],
 "metadata": {
  "kernelspec": {
   "display_name": "Python 3",
   "language": "python",
   "name": "python3"
  },
  "language_info": {
   "codemirror_mode": {
    "name": "ipython",
    "version": 3
   },
   "file_extension": ".py",
   "mimetype": "text/x-python",
   "name": "python",
   "nbconvert_exporter": "python",
   "pygments_lexer": "ipython3",
   "version": "3.8.3"
  }
 },
 "nbformat": 4,
 "nbformat_minor": 4
}
